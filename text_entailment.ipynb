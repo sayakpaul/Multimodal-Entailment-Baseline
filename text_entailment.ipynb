{
  "nbformat": 4,
  "nbformat_minor": 0,
  "metadata": {
    "colab": {
      "name": "text_entailment.ipynb",
      "provenance": [],
      "collapsed_sections": [],
      "machine_shape": "hm",
      "authorship_tag": "ABX9TyM1IL2lJ+KzqLXOWqLAg8VY",
      "include_colab_link": true
    },
    "kernelspec": {
      "name": "python3",
      "display_name": "Python 3"
    },
    "language_info": {
      "name": "python"
    },
    "accelerator": "GPU"
  },
  "cells": [
    {
      "cell_type": "markdown",
      "metadata": {
        "id": "view-in-github",
        "colab_type": "text"
      },
      "source": [
        "<a href=\"https://colab.research.google.com/github/sayakpaul/Multimodal-Entailment-Baseline/blob/main/text_entailment.ipynb\" target=\"_parent\"><img src=\"https://colab.research.google.com/assets/colab-badge.svg\" alt=\"Open In Colab\"/></a>"
      ]
    },
    {
      "cell_type": "markdown",
      "metadata": {
        "id": "-euecjWhwnCI"
      },
      "source": [
        "In this notebook, we will build a model for predicting textual entailment. Given two pieces of text the model should be able to predict if they contradict/entail/do not entail."
      ]
    },
    {
      "cell_type": "markdown",
      "metadata": {
        "id": "i5jZMurdw2Wn"
      },
      "source": [
        "## Setup and imports"
      ]
    },
    {
      "cell_type": "code",
      "metadata": {
        "colab": {
          "base_uri": "https://localhost:8080/"
        },
        "id": "1PDR7VvxqKAi",
        "outputId": "280d018d-7306-41bd-8650-0fa416d27a3f"
      },
      "source": [
        "!pip install -q tensorflow_text"
      ],
      "execution_count": 1,
      "outputs": [
        {
          "output_type": "stream",
          "text": [
            "\u001b[K     |████████████████████████████████| 4.3 MB 13.4 MB/s \n",
            "\u001b[?25h"
          ],
          "name": "stdout"
        }
      ]
    },
    {
      "cell_type": "code",
      "metadata": {
        "id": "elIGGb4-qXiO"
      },
      "source": [
        "from sklearn.model_selection import train_test_split\n",
        "import matplotlib.pyplot as plt\n",
        "import pandas as pd\n",
        "import numpy as np\n",
        "import os\n",
        "\n",
        "import tensorflow as tf\n",
        "import tensorflow_hub as hub\n",
        "import tensorflow_text as text\n",
        "from tensorflow import keras"
      ],
      "execution_count": 2,
      "outputs": []
    },
    {
      "cell_type": "markdown",
      "metadata": {
        "id": "fqS4sss7xEyN"
      },
      "source": [
        "## Read dataset"
      ]
    },
    {
      "cell_type": "code",
      "metadata": {
        "colab": {
          "base_uri": "https://localhost:8080/"
        },
        "id": "sRM8TazrqblE",
        "outputId": "dfb568d4-15cc-4ce4-e346-f0c202c39f38"
      },
      "source": [
        "train_df = pd.read_csv(\"https://github.com/sayakpaul/Multimodal-Entailment-Baseline/raw/main/csvs/train_df.csv\")\n",
        "test_df = pd.read_csv(\"https://github.com/sayakpaul/Multimodal-Entailment-Baseline/raw/main/csvs/test_df.csv\")\n",
        "val_df = pd.read_csv(\"https://github.com/sayakpaul/Multimodal-Entailment-Baseline/raw/main/csvs/val_df.csv\")\n",
        "print(f\"Training examples: {len(train_df)}\")\n",
        "print(f\"Validation examples: {len(val_df)}\")\n",
        "print(f\"Test examples: {len(test_df)}\")"
      ],
      "execution_count": 3,
      "outputs": [
        {
          "output_type": "stream",
          "text": [
            "Training examples: 1197\n",
            "Validation examples: 63\n",
            "Test examples: 140\n"
          ],
          "name": "stdout"
        }
      ]
    },
    {
      "cell_type": "code",
      "metadata": {
        "colab": {
          "base_uri": "https://localhost:8080/",
          "height": 685
        },
        "id": "koj4ktfyrWmr",
        "outputId": "72477b8e-ea4d-44dd-afb1-3ca3a929f6df"
      },
      "source": [
        "train_df.sample(10)"
      ],
      "execution_count": 4,
      "outputs": [
        {
          "output_type": "execute_result",
          "data": {
            "text/html": [
              "<div>\n",
              "<style scoped>\n",
              "    .dataframe tbody tr th:only-of-type {\n",
              "        vertical-align: middle;\n",
              "    }\n",
              "\n",
              "    .dataframe tbody tr th {\n",
              "        vertical-align: top;\n",
              "    }\n",
              "\n",
              "    .dataframe thead th {\n",
              "        text-align: right;\n",
              "    }\n",
              "</style>\n",
              "<table border=\"1\" class=\"dataframe\">\n",
              "  <thead>\n",
              "    <tr style=\"text-align: right;\">\n",
              "      <th></th>\n",
              "      <th>id_1</th>\n",
              "      <th>text_1</th>\n",
              "      <th>image_1</th>\n",
              "      <th>id_2</th>\n",
              "      <th>text_2</th>\n",
              "      <th>image_2</th>\n",
              "      <th>label</th>\n",
              "      <th>image_1_path</th>\n",
              "      <th>image_2_path</th>\n",
              "      <th>label_idx</th>\n",
              "    </tr>\n",
              "  </thead>\n",
              "  <tbody>\n",
              "    <tr>\n",
              "      <th>1053</th>\n",
              "      <td>1361145825909473282</td>\n",
              "      <td>A Flood advisory has been issued in the FOX8 v...</td>\n",
              "      <td>http://pbs.twimg.com/media/EuPC6lKXcAIl6Uu.png</td>\n",
              "      <td>1381033827410325507</td>\n",
              "      <td>A Flood advisory has been issued in the FOX8 v...</td>\n",
              "      <td>http://pbs.twimg.com/media/Eypq73iXMAMMpKb.jpg</td>\n",
              "      <td>NoEntailment</td>\n",
              "      <td>tweet_images/1361145825909473282.png</td>\n",
              "      <td>tweet_images/1381033827410325507.jpg</td>\n",
              "      <td>2</td>\n",
              "    </tr>\n",
              "    <tr>\n",
              "      <th>1042</th>\n",
              "      <td>1363167912341733386</td>\n",
              "      <td>#onweather\\n\\nWINTER WEATHER TRAVEL ADVISORY C...</td>\n",
              "      <td>http://pbs.twimg.com/media/Eurx_eMXIAMyOjp.jpg</td>\n",
              "      <td>1363167916947099650</td>\n",
              "      <td>#onweather\\n\\nWINTER WEATHER TRAVEL ADVISORY E...</td>\n",
              "      <td>http://pbs.twimg.com/media/Eurx_wDXMAExhIT.jpg</td>\n",
              "      <td>Implies</td>\n",
              "      <td>tweet_images/1363167912341733386.jpg</td>\n",
              "      <td>tweet_images/1363167916947099650.jpg</td>\n",
              "      <td>1</td>\n",
              "    </tr>\n",
              "    <tr>\n",
              "      <th>683</th>\n",
              "      <td>1377904670887141377</td>\n",
              "      <td>Life is a maybe, Death is for sure. Sin is the...</td>\n",
              "      <td>http://pbs.twimg.com/media/Ex9AeNUVEAQP5Lx.jpg</td>\n",
              "      <td>1378068662821683200</td>\n",
              "      <td>Bless everyone in these trying times. Let's al...</td>\n",
              "      <td>http://pbs.twimg.com/media/Ex_iJVhVoAAQc19.jpg</td>\n",
              "      <td>NoEntailment</td>\n",
              "      <td>tweet_images/1377904670887141377.jpg</td>\n",
              "      <td>tweet_images/1378068662821683200.jpg</td>\n",
              "      <td>2</td>\n",
              "    </tr>\n",
              "    <tr>\n",
              "      <th>1184</th>\n",
              "      <td>1356719777159471106</td>\n",
              "      <td>The bottom three on form are Birmingham, Rothe...</td>\n",
              "      <td>http://pbs.twimg.com/media/EtQJThBXEAMSKom.jpg</td>\n",
              "      <td>1383323542373031937</td>\n",
              "      <td>The 12-game form table. Preston North End are ...</td>\n",
              "      <td>http://pbs.twimg.com/media/EzKNa5NVIAATfMZ.jpg</td>\n",
              "      <td>NoEntailment</td>\n",
              "      <td>tweet_images/1356719777159471106.jpg</td>\n",
              "      <td>tweet_images/1383323542373031937.jpg</td>\n",
              "      <td>2</td>\n",
              "    </tr>\n",
              "    <tr>\n",
              "      <th>1142</th>\n",
              "      <td>1377794214629494786</td>\n",
              "      <td>Check out this item I just got! [Duskwarder Wa...</td>\n",
              "      <td>http://pbs.twimg.com/media/Ex7oiYkU4AE66y8.jpg</td>\n",
              "      <td>1380320402942029829</td>\n",
              "      <td>Check out this item I just got! [Gorewrought M...</td>\n",
              "      <td>http://pbs.twimg.com/media/EyfiF6oU8AEGzhJ.jpg</td>\n",
              "      <td>NoEntailment</td>\n",
              "      <td>tweet_images/1377794214629494786.jpg</td>\n",
              "      <td>tweet_images/1380320402942029829.jpg</td>\n",
              "      <td>2</td>\n",
              "    </tr>\n",
              "    <tr>\n",
              "      <th>340</th>\n",
              "      <td>1335817457018286080</td>\n",
              "      <td>Nokia 5.4 full specifications leak online ahea...</td>\n",
              "      <td>http://pbs.twimg.com/media/EonG2ybWEAEOjfo.png</td>\n",
              "      <td>1335819879350321153</td>\n",
              "      <td>Nokia 5.4 full specifications leak online ahea...</td>\n",
              "      <td>http://pbs.twimg.com/media/EonJGCNUYAAMdRC.jpg</td>\n",
              "      <td>NoEntailment</td>\n",
              "      <td>tweet_images/1335817457018286080.png</td>\n",
              "      <td>tweet_images/1335819879350321153.jpg</td>\n",
              "      <td>2</td>\n",
              "    </tr>\n",
              "    <tr>\n",
              "      <th>551</th>\n",
              "      <td>1368995843697602561</td>\n",
              "      <td>Monday Member Moments! Let American United cat...</td>\n",
              "      <td>http://pbs.twimg.com/media/Ev-mWSBUUAA4Y9_.jpg</td>\n",
              "      <td>1379091960112185344</td>\n",
              "      <td>Monday Member Moments! Want it your way? Let A...</td>\n",
              "      <td>http://pbs.twimg.com/media/EyEIlr9UUAQkEDl.jpg</td>\n",
              "      <td>NoEntailment</td>\n",
              "      <td>tweet_images/1368995843697602561.jpg</td>\n",
              "      <td>tweet_images/1379091960112185344.jpg</td>\n",
              "      <td>2</td>\n",
              "    </tr>\n",
              "    <tr>\n",
              "      <th>979</th>\n",
              "      <td>1374087053189771268</td>\n",
              "      <td>Check out this week's Wolves Week! https://t.c...</td>\n",
              "      <td>http://pbs.twimg.com/media/ExG85H8WgAYOpxe.jpg</td>\n",
              "      <td>1376960406586032133</td>\n",
              "      <td>Here is this week's Wolves Week https://t.co/F...</td>\n",
              "      <td>http://pbs.twimg.com/media/ExvyMWFXMAEZaAq.jpg</td>\n",
              "      <td>NoEntailment</td>\n",
              "      <td>tweet_images/1374087053189771268.jpg</td>\n",
              "      <td>tweet_images/1376960406586032133.jpg</td>\n",
              "      <td>2</td>\n",
              "    </tr>\n",
              "    <tr>\n",
              "      <th>983</th>\n",
              "      <td>1373776004175560711</td>\n",
              "      <td>tocache : 📢 Printing is at 40% https://t.co/QB...</td>\n",
              "      <td>http://pbs.twimg.com/media/ExCh_glW8AAmteL.png</td>\n",
              "      <td>1383466314312740869</td>\n",
              "      <td>tocache : 📢 Printing is at 70% https://t.co/X3...</td>\n",
              "      <td>http://pbs.twimg.com/media/EzMPRtMUUAIxRJc.png</td>\n",
              "      <td>NoEntailment</td>\n",
              "      <td>tweet_images/1373776004175560711.png</td>\n",
              "      <td>tweet_images/1383466314312740869.png</td>\n",
              "      <td>2</td>\n",
              "    </tr>\n",
              "    <tr>\n",
              "      <th>64</th>\n",
              "      <td>1376951543128326150</td>\n",
              "      <td>The Bluejay baseball team (2-2) lost to a good...</td>\n",
              "      <td>http://pbs.twimg.com/media/ExvqIY6XAAE9VMS.jpg</td>\n",
              "      <td>1382863178921574402</td>\n",
              "      <td>Bluejays move to 9-4 with a 9-7 win over St. P...</td>\n",
              "      <td>http://pbs.twimg.com/media/EzDqu4kXMAAhCuu.jpg</td>\n",
              "      <td>NoEntailment</td>\n",
              "      <td>tweet_images/1376951543128326150.jpg</td>\n",
              "      <td>tweet_images/1382863178921574402.jpg</td>\n",
              "      <td>2</td>\n",
              "    </tr>\n",
              "  </tbody>\n",
              "</table>\n",
              "</div>"
            ],
            "text/plain": [
              "                     id_1  ... label_idx\n",
              "1053  1361145825909473282  ...         2\n",
              "1042  1363167912341733386  ...         1\n",
              "683   1377904670887141377  ...         2\n",
              "1184  1356719777159471106  ...         2\n",
              "1142  1377794214629494786  ...         2\n",
              "340   1335817457018286080  ...         2\n",
              "551   1368995843697602561  ...         2\n",
              "979   1374087053189771268  ...         2\n",
              "983   1373776004175560711  ...         2\n",
              "64    1376951543128326150  ...         2\n",
              "\n",
              "[10 rows x 10 columns]"
            ]
          },
          "metadata": {
            "tags": []
          },
          "execution_count": 4
        }
      ]
    },
    {
      "cell_type": "markdown",
      "metadata": {
        "id": "0KjuIQgGxHE2"
      },
      "source": [
        "## Data input pipeline"
      ]
    },
    {
      "cell_type": "code",
      "metadata": {
        "id": "1ly8POGnravr"
      },
      "source": [
        "# Define TF Hub paths to the BERT encoder and its preprocessor\n",
        "bert_model_path = \"https://tfhub.dev/tensorflow/small_bert/bert_en_uncased_L-2_H-256_A-4/1\"\n",
        "bert_preprocess_path = \"https://tfhub.dev/tensorflow/bert_en_uncased_preprocess/3\""
      ],
      "execution_count": 5,
      "outputs": []
    },
    {
      "cell_type": "code",
      "metadata": {
        "id": "EGeDVsT9sOTL"
      },
      "source": [
        "# Reference:\n",
        "# https://www.tensorflow.org/text/tutorials/bert_glue\n",
        "\n",
        "def make_bert_preprocess_model(sentence_features, seq_length=128):\n",
        "  \"\"\"Returns Model mapping string features to BERT inputs.\n",
        "\n",
        "  Args:\n",
        "    sentence_features: a list with the names of string-valued features.\n",
        "    seq_length: an integer that defines the sequence length of BERT inputs.\n",
        "\n",
        "  Returns:\n",
        "    A Keras Model that can be called on a list or dict of string Tensors\n",
        "    (with the order or names, resp., given by sentence_features) and\n",
        "    returns a dict of tensors for input to BERT.\n",
        "  \"\"\"\n",
        "\n",
        "  input_segments = [\n",
        "      tf.keras.layers.Input(shape=(), dtype=tf.string, name=ft)\n",
        "      for ft in sentence_features]\n",
        "\n",
        "  # Tokenize the text to word pieces.\n",
        "  bert_preprocess = hub.load(bert_preprocess_path)\n",
        "  tokenizer = hub.KerasLayer(bert_preprocess.tokenize, name='tokenizer')\n",
        "  segments = [tokenizer(s) for s in input_segments]\n",
        "\n",
        "  # Optional: Trim segments in a smart way to fit seq_length.\n",
        "  # Simple cases (like this example) can skip this step and let\n",
        "  # the next step apply a default truncation to approximately equal lengths.\n",
        "  truncated_segments = segments\n",
        "\n",
        "  # Pack inputs. The details (start/end token ids, dict of output tensors)\n",
        "  # are model-dependent, so this gets loaded from the SavedModel.\n",
        "  packer = hub.KerasLayer(bert_preprocess.bert_pack_inputs,\n",
        "                          arguments=dict(seq_length=seq_length),\n",
        "                          name='packer')\n",
        "  model_inputs = packer(truncated_segments)\n",
        "  return keras.Model(input_segments, model_inputs)"
      ],
      "execution_count": 6,
      "outputs": []
    },
    {
      "cell_type": "code",
      "metadata": {
        "colab": {
          "base_uri": "https://localhost:8080/",
          "height": 312
        },
        "id": "s95Hc9CvsWHT",
        "outputId": "a52ccc85-dca7-4f18-e391-48ca8f3de51d"
      },
      "source": [
        "bert_preprocess_model = make_bert_preprocess_model(['text_1', 'text_2'])\n",
        "keras.utils.plot_model(bert_preprocess_model, show_shapes=True, show_dtype=True)"
      ],
      "execution_count": 7,
      "outputs": [
        {
          "output_type": "execute_result",
          "data": {
            "image/png": "[encoded data removed]",
            "text/plain": [
              "<IPython.core.display.Image object>"
            ]
          },
          "metadata": {
            "tags": []
          },
          "execution_count": 7
        }
      ]
    },
    {
      "cell_type": "code",
      "metadata": {
        "id": "MLgiqNS3sbyH"
      },
      "source": [
        "def dataframe_to_dataset(dataframe):\n",
        "    columns = [\"text_1\", \"text_2\", \"label_idx\"]\n",
        "    dataframe = dataframe[columns].copy()\n",
        "    ds = tf.data.Dataset.from_tensor_slices(dict(dataframe))\n",
        "    return ds"
      ],
      "execution_count": 8,
      "outputs": []
    },
    {
      "cell_type": "code",
      "metadata": {
        "colab": {
          "base_uri": "https://localhost:8080/"
        },
        "id": "_rYMnVDMtS-a",
        "outputId": "b51a16fb-239b-4ac1-b072-bc38410c509d"
      },
      "source": [
        "batch_size = 32\n",
        "auto = tf.data.AUTOTUNE\n",
        "\n",
        "def prepare_dataset(df, training=True):\n",
        "    ds = dataframe_to_dataset(df)\n",
        "    if training:\n",
        "        ds = ds.shuffle(len(train_df))\n",
        "    \n",
        "    ds = ds.batch(batch_size)\n",
        "    ds = ds.map(lambda x: (bert_preprocess_model(x), x[\"label_idx\"]))\n",
        "    ds = ds.cache().prefetch(auto)\n",
        "    return ds\n",
        "\n",
        "train_ds = prepare_dataset(train_df)\n",
        "validation_ds = prepare_dataset(val_df, False)\n",
        "test_ds = prepare_dataset(test_df, False)"
      ],
      "execution_count": 9,
      "outputs": [
        {
          "output_type": "stream",
          "text": [
            "/usr/local/lib/python3.7/dist-packages/tensorflow/python/keras/engine/functional.py:591: UserWarning: Input dict contained keys ['label_idx'] which did not match any model input. They will be ignored by the model.\n",
            "  [n for n in tensors.keys() if n not in ref_input_names])\n"
          ],
          "name": "stderr"
        }
      ]
    },
    {
      "cell_type": "code",
      "metadata": {
        "id": "2oD9Ws9POpH8"
      },
      "source": [
        "# Separate the train and test labels for later evaluation.\n",
        "def separate_labels(ds):\n",
        "    labels = []\n",
        "    for _, label in ds.unbatch():\n",
        "        labels.append(label)\n",
        "    labels = np.array(labels)\n",
        "    return labels\n",
        "\n",
        "train_labels = separate_labels(train_ds)\n",
        "test_labels = separate_labels(test_ds)"
      ],
      "execution_count": 10,
      "outputs": []
    },
    {
      "cell_type": "markdown",
      "metadata": {
        "id": "vtSpTgO7xJ_J"
      },
      "source": [
        "## Model utilities"
      ]
    },
    {
      "cell_type": "code",
      "metadata": {
        "id": "afBGqAFgtP5b"
      },
      "source": [
        "# Reference:\n",
        "# https://www.tensorflow.org/text/tutorials/bert_glue\n",
        "def build_classifier_model(num_classes=3):\n",
        "\n",
        "  class Classifier(tf.keras.Model):\n",
        "    def __init__(self, num_classes):\n",
        "      super(Classifier, self).__init__(name=\"prediction\")\n",
        "      self.encoder = hub.KerasLayer(bert_model_path, trainable=False)\n",
        "      self.dropout = keras.layers.Dropout(0.1)\n",
        "      self.dense = keras.layers.Dense(num_classes)\n",
        "\n",
        "    def call(self, preprocessed_text):\n",
        "      encoder_outputs = self.encoder(preprocessed_text)\n",
        "      pooled_output = encoder_outputs[\"pooled_output\"]\n",
        "      x = self.dropout(pooled_output)\n",
        "      x = self.dense(x)\n",
        "      return x\n",
        "\n",
        "  model = Classifier(num_classes)\n",
        "  return model"
      ],
      "execution_count": 11,
      "outputs": []
    },
    {
      "cell_type": "markdown",
      "metadata": {
        "id": "mkhs70qnxLl7"
      },
      "source": [
        "## Compile and train the model"
      ]
    },
    {
      "cell_type": "code",
      "metadata": {
        "colab": {
          "base_uri": "https://localhost:8080/"
        },
        "id": "EEwvn-9XwAgZ",
        "outputId": "15fd2b73-8904-45bc-e817-75c51e531972"
      },
      "source": [
        "classifier_model = build_classifier_model()\n",
        "classifier_model.compile(optimizer=\"adam\", loss=\"sparse_categorical_crossentropy\", metrics=\"accuracy\")\n",
        "history = classifier_model.fit(\n",
        "    train_ds,\n",
        "    validation_data=validation_ds,\n",
        "    epochs=10\n",
        ")"
      ],
      "execution_count": 12,
      "outputs": [
        {
          "output_type": "stream",
          "text": [
            "Epoch 1/10\n",
            "38/38 [==============================] - 5s 27ms/step - loss: 3.4904 - accuracy: 0.3826 - val_loss: 1.0986 - val_accuracy: 0.7302\n",
            "Epoch 2/10\n",
            "38/38 [==============================] - 1s 16ms/step - loss: 1.1026 - accuracy: 0.5505 - val_loss: 1.0986 - val_accuracy: 0.7619\n",
            "Epoch 3/10\n",
            "38/38 [==============================] - 1s 18ms/step - loss: 1.1156 - accuracy: 0.5973 - val_loss: 1.0986 - val_accuracy: 0.6984\n",
            "Epoch 4/10\n",
            "38/38 [==============================] - 1s 16ms/step - loss: 1.0977 - accuracy: 0.5096 - val_loss: 1.0986 - val_accuracy: 0.6667\n",
            "Epoch 5/10\n",
            "38/38 [==============================] - 1s 28ms/step - loss: 1.1095 - accuracy: 0.5171 - val_loss: 1.0986 - val_accuracy: 0.6667\n",
            "Epoch 6/10\n",
            "38/38 [==============================] - 1s 21ms/step - loss: 1.0977 - accuracy: 0.5530 - val_loss: 1.0986 - val_accuracy: 0.6667\n",
            "Epoch 7/10\n",
            "38/38 [==============================] - 1s 18ms/step - loss: 1.0977 - accuracy: 0.5530 - val_loss: 1.0986 - val_accuracy: 0.6667\n",
            "Epoch 8/10\n",
            "38/38 [==============================] - 1s 28ms/step - loss: 1.0986 - accuracy: 0.5505 - val_loss: 1.0986 - val_accuracy: 0.6667\n",
            "Epoch 9/10\n",
            "38/38 [==============================] - 1s 26ms/step - loss: 1.0949 - accuracy: 0.5664 - val_loss: 1.0986 - val_accuracy: 0.6667\n",
            "Epoch 10/10\n",
            "38/38 [==============================] - 1s 19ms/step - loss: 1.1046 - accuracy: 0.5873 - val_loss: 1.0986 - val_accuracy: 0.7460\n"
          ],
          "name": "stdout"
        }
      ]
    },
    {
      "cell_type": "markdown",
      "metadata": {
        "id": "aWk7g5A4xN18"
      },
      "source": [
        "## Model evaluation"
      ]
    },
    {
      "cell_type": "code",
      "metadata": {
        "colab": {
          "base_uri": "https://localhost:8080/"
        },
        "id": "9g5CDTphwY-J",
        "outputId": "f6984dc9-29a2-44d4-a424-88fdf5d7a699"
      },
      "source": [
        "_, acc = classifier_model.evaluate(test_ds)\n",
        "print(f\"Accuracy on the test set: {round(acc * 100, 2)}%.\")"
      ],
      "execution_count": 13,
      "outputs": [
        {
          "output_type": "stream",
          "text": [
            "5/5 [==============================] - 1s 7ms/step - loss: 1.0986 - accuracy: 0.6714\n",
            "Accuracy on the test set: 67.14%.\n"
          ],
          "name": "stdout"
        }
      ]
    },
    {
      "cell_type": "code",
      "metadata": {
        "id": "N7qE1EWoOzed"
      },
      "source": [
        "from sklearn.metrics import confusion_matrix, classification_report\n",
        "\n",
        "class_names = [\"Contradictory\", \"Implies\", \"NoEntailment\"]\n",
        "\n",
        "def detailed_test_eval(model):\n",
        "    prediction_labels = np.argmax(model.predict(test_ds), 1)\n",
        "    print(classification_report(test_labels, prediction_labels, target_names=class_names))\n",
        "    return pd.DataFrame(confusion_matrix(test_labels, prediction_labels),\n",
        "                        index=class_names, columns=class_names)"
      ],
      "execution_count": 14,
      "outputs": []
    },
    {
      "cell_type": "code",
      "metadata": {
        "id": "6plAR_RsPEOD",
        "outputId": "5d525b92-5dce-483a-c173-b9ec976944d0",
        "colab": {
          "base_uri": "https://localhost:8080/",
          "height": 312
        }
      },
      "source": [
        "detailed_test_eval(classifier_model)"
      ],
      "execution_count": 15,
      "outputs": [
        {
          "output_type": "stream",
          "text": [
            "               precision    recall  f1-score   support\n",
            "\n",
            "Contradictory       0.11      0.18      0.13        11\n",
            "      Implies       0.00      0.00      0.00        11\n",
            " NoEntailment       0.84      0.78      0.81       118\n",
            "\n",
            "     accuracy                           0.67       140\n",
            "    macro avg       0.32      0.32      0.31       140\n",
            " weighted avg       0.72      0.67      0.69       140\n",
            "\n"
          ],
          "name": "stdout"
        },
        {
          "output_type": "execute_result",
          "data": {
            "text/html": [
              "<div>\n",
              "<style scoped>\n",
              "    .dataframe tbody tr th:only-of-type {\n",
              "        vertical-align: middle;\n",
              "    }\n",
              "\n",
              "    .dataframe tbody tr th {\n",
              "        vertical-align: top;\n",
              "    }\n",
              "\n",
              "    .dataframe thead th {\n",
              "        text-align: right;\n",
              "    }\n",
              "</style>\n",
              "<table border=\"1\" class=\"dataframe\">\n",
              "  <thead>\n",
              "    <tr style=\"text-align: right;\">\n",
              "      <th></th>\n",
              "      <th>Contradictory</th>\n",
              "      <th>Implies</th>\n",
              "      <th>NoEntailment</th>\n",
              "    </tr>\n",
              "  </thead>\n",
              "  <tbody>\n",
              "    <tr>\n",
              "      <th>Contradictory</th>\n",
              "      <td>2</td>\n",
              "      <td>0</td>\n",
              "      <td>9</td>\n",
              "    </tr>\n",
              "    <tr>\n",
              "      <th>Implies</th>\n",
              "      <td>3</td>\n",
              "      <td>0</td>\n",
              "      <td>8</td>\n",
              "    </tr>\n",
              "    <tr>\n",
              "      <th>NoEntailment</th>\n",
              "      <td>14</td>\n",
              "      <td>12</td>\n",
              "      <td>92</td>\n",
              "    </tr>\n",
              "  </tbody>\n",
              "</table>\n",
              "</div>"
            ],
            "text/plain": [
              "               Contradictory  Implies  NoEntailment\n",
              "Contradictory              2        0             9\n",
              "Implies                    3        0             8\n",
              "NoEntailment              14       12            92"
            ]
          },
          "metadata": {
            "tags": []
          },
          "execution_count": 15
        }
      ]
    },
    {
      "cell_type": "markdown",
      "metadata": {
        "id": "sisEfjj08Ezo"
      },
      "source": [
        "## Loss weighted training "
      ]
    },
    {
      "cell_type": "code",
      "metadata": {
        "colab": {
          "base_uri": "https://localhost:8080/"
        },
        "id": "G9phAT5a85eG",
        "outputId": "ff3e9d65-668f-486f-ac94-c91dcd58e15d"
      },
      "source": [
        "# Reference: https://bit.ly/3xxtgSy\n",
        "\n",
        "train_labels_ohe = keras.utils.to_categorical(train_labels)\n",
        "class_totals = train_labels_ohe.sum(axis=0)\n",
        "class_weight = dict()\n",
        "\n",
        "for i in range(0, len(class_totals)):\n",
        "\tclass_weight[i] = class_totals.max() / class_totals[i]\n",
        "\n",
        "class_weight"
      ],
      "execution_count": 16,
      "outputs": [
        {
          "output_type": "execute_result",
          "data": {
            "text/plain": [
              "{0: 10.870968, 1: 10.870968, 2: 1.0}"
            ]
          },
          "metadata": {
            "tags": []
          },
          "execution_count": 16
        }
      ]
    },
    {
      "cell_type": "code",
      "metadata": {
        "colab": {
          "base_uri": "https://localhost:8080/"
        },
        "id": "S8f2jd06GwE_",
        "outputId": "3f9255e1-3494-417d-a4e8-b1552987a2a4"
      },
      "source": [
        "classifier_model_lw = build_classifier_model()\n",
        "classifier_model_lw.compile(\n",
        "    optimizer=\"adam\", loss=\"sparse_categorical_crossentropy\", metrics=\"accuracy\"\n",
        ")\n",
        "history = classifier_model_lw.fit(\n",
        "    train_ds,\n",
        "    validation_data=validation_ds,\n",
        "    epochs=10,\n",
        "    class_weight=class_weight\n",
        ")"
      ],
      "execution_count": 17,
      "outputs": [
        {
          "output_type": "stream",
          "text": [
            "WARNING:tensorflow:From /usr/local/lib/python3.7/dist-packages/tensorflow/python/ops/array_ops.py:5049: calling gather (from tensorflow.python.ops.array_ops) with validate_indices is deprecated and will be removed in a future version.\n",
            "Instructions for updating:\n",
            "The `validate_indices` argument has no effect. Indices are always validated on CPU and never validated on GPU.\n"
          ],
          "name": "stdout"
        },
        {
          "output_type": "stream",
          "text": [
            "WARNING:tensorflow:From /usr/local/lib/python3.7/dist-packages/tensorflow/python/ops/array_ops.py:5049: calling gather (from tensorflow.python.ops.array_ops) with validate_indices is deprecated and will be removed in a future version.\n",
            "Instructions for updating:\n",
            "The `validate_indices` argument has no effect. Indices are always validated on CPU and never validated on GPU.\n"
          ],
          "name": "stderr"
        },
        {
          "output_type": "stream",
          "text": [
            "Epoch 1/10\n",
            "38/38 [==============================] - 3s 20ms/step - loss: 16.1257 - accuracy: 0.0785 - val_loss: 14.4449 - val_accuracy: 0.0794\n",
            "Epoch 2/10\n",
            "38/38 [==============================] - 1s 17ms/step - loss: 15.4939 - accuracy: 0.0819 - val_loss: 14.2637 - val_accuracy: 0.0794\n",
            "Epoch 3/10\n",
            "38/38 [==============================] - 1s 17ms/step - loss: 15.3656 - accuracy: 0.0869 - val_loss: 14.2601 - val_accuracy: 0.0635\n",
            "Epoch 4/10\n",
            "38/38 [==============================] - 1s 15ms/step - loss: 15.5883 - accuracy: 0.0877 - val_loss: 14.3683 - val_accuracy: 0.0635\n",
            "Epoch 5/10\n",
            "38/38 [==============================] - 1s 30ms/step - loss: 15.7216 - accuracy: 0.0852 - val_loss: 14.2667 - val_accuracy: 0.0476\n",
            "Epoch 6/10\n",
            "38/38 [==============================] - 1s 22ms/step - loss: 15.3493 - accuracy: 0.0877 - val_loss: 14.2710 - val_accuracy: 0.0635\n",
            "Epoch 7/10\n",
            "38/38 [==============================] - 1s 20ms/step - loss: 15.3074 - accuracy: 0.0894 - val_loss: 14.4062 - val_accuracy: 0.0794\n",
            "Epoch 8/10\n",
            "38/38 [==============================] - 1s 28ms/step - loss: 15.3289 - accuracy: 0.0944 - val_loss: 14.2558 - val_accuracy: 0.0952\n",
            "Epoch 9/10\n",
            "38/38 [==============================] - 1s 22ms/step - loss: 15.3493 - accuracy: 0.0927 - val_loss: 14.2559 - val_accuracy: 0.1111\n",
            "Epoch 10/10\n",
            "38/38 [==============================] - 1s 24ms/step - loss: 15.3565 - accuracy: 0.0944 - val_loss: 14.2560 - val_accuracy: 0.1111\n"
          ],
          "name": "stdout"
        }
      ]
    },
    {
      "cell_type": "code",
      "metadata": {
        "colab": {
          "base_uri": "https://localhost:8080/"
        },
        "id": "iYqwW82FHMZS",
        "outputId": "3a6eb500-ce3a-476a-d8b3-c16593cf8f35"
      },
      "source": [
        "_, acc = classifier_model_lw.evaluate(test_ds)\n",
        "print(f\"Accuracy on the test set: {round(acc * 100, 2)}%.\")"
      ],
      "execution_count": 18,
      "outputs": [
        {
          "output_type": "stream",
          "text": [
            "5/5 [==============================] - 0s 6ms/step - loss: 14.2721 - accuracy: 0.1143\n",
            "Accuracy on the test set: 11.43%.\n"
          ],
          "name": "stdout"
        }
      ]
    },
    {
      "cell_type": "code",
      "metadata": {
        "colab": {
          "base_uri": "https://localhost:8080/",
          "height": 366
        },
        "id": "F4x6ds9sHSDD",
        "outputId": "988017a7-3edb-4959-ad6c-a3cad82a9bd6"
      },
      "source": [
        "detailed_test_eval(classifier_model_lw)"
      ],
      "execution_count": 19,
      "outputs": [
        {
          "output_type": "stream",
          "text": [
            "               precision    recall  f1-score   support\n",
            "\n",
            "Contradictory       0.14      0.64      0.23        11\n",
            "      Implies       0.10      0.82      0.18        11\n",
            " NoEntailment       0.00      0.00      0.00       118\n",
            "\n",
            "     accuracy                           0.11       140\n",
            "    macro avg       0.08      0.48      0.14       140\n",
            " weighted avg       0.02      0.11      0.03       140\n",
            "\n"
          ],
          "name": "stdout"
        },
        {
          "output_type": "stream",
          "text": [
            "/usr/local/lib/python3.7/dist-packages/sklearn/metrics/_classification.py:1272: UndefinedMetricWarning: Precision and F-score are ill-defined and being set to 0.0 in labels with no predicted samples. Use `zero_division` parameter to control this behavior.\n",
            "  _warn_prf(average, modifier, msg_start, len(result))\n"
          ],
          "name": "stderr"
        },
        {
          "output_type": "execute_result",
          "data": {
            "text/html": [
              "<div>\n",
              "<style scoped>\n",
              "    .dataframe tbody tr th:only-of-type {\n",
              "        vertical-align: middle;\n",
              "    }\n",
              "\n",
              "    .dataframe tbody tr th {\n",
              "        vertical-align: top;\n",
              "    }\n",
              "\n",
              "    .dataframe thead th {\n",
              "        text-align: right;\n",
              "    }\n",
              "</style>\n",
              "<table border=\"1\" class=\"dataframe\">\n",
              "  <thead>\n",
              "    <tr style=\"text-align: right;\">\n",
              "      <th></th>\n",
              "      <th>Contradictory</th>\n",
              "      <th>Implies</th>\n",
              "      <th>NoEntailment</th>\n",
              "    </tr>\n",
              "  </thead>\n",
              "  <tbody>\n",
              "    <tr>\n",
              "      <th>Contradictory</th>\n",
              "      <td>7</td>\n",
              "      <td>4</td>\n",
              "      <td>0</td>\n",
              "    </tr>\n",
              "    <tr>\n",
              "      <th>Implies</th>\n",
              "      <td>2</td>\n",
              "      <td>9</td>\n",
              "      <td>0</td>\n",
              "    </tr>\n",
              "    <tr>\n",
              "      <th>NoEntailment</th>\n",
              "      <td>41</td>\n",
              "      <td>77</td>\n",
              "      <td>0</td>\n",
              "    </tr>\n",
              "  </tbody>\n",
              "</table>\n",
              "</div>"
            ],
            "text/plain": [
              "               Contradictory  Implies  NoEntailment\n",
              "Contradictory              7        4             0\n",
              "Implies                    2        9             0\n",
              "NoEntailment              41       77             0"
            ]
          },
          "metadata": {
            "tags": []
          },
          "execution_count": 19
        }
      ]
    },
    {
      "cell_type": "markdown",
      "metadata": {
        "id": "7Fb7-R8jRGDM"
      },
      "source": [
        "## Focal loss"
      ]
    },
    {
      "cell_type": "code",
      "metadata": {
        "id": "S1eXsS-JIaj_"
      },
      "source": [
        "!pip install -q focal-loss"
      ],
      "execution_count": 20,
      "outputs": []
    },
    {
      "cell_type": "code",
      "metadata": {
        "id": "Jg3E8QgYIidR"
      },
      "source": [
        "from focal_loss import SparseCategoricalFocalLoss"
      ],
      "execution_count": 21,
      "outputs": []
    },
    {
      "cell_type": "code",
      "metadata": {
        "colab": {
          "base_uri": "https://localhost:8080/"
        },
        "id": "KxbbeacMIlFL",
        "outputId": "3a3a3846-e7ba-4dc4-d1ae-9861278d4259"
      },
      "source": [
        "classifier_model_focal = build_classifier_model()\n",
        "classifier_model_focal.compile(\n",
        "    optimizer=\"adam\", loss=SparseCategoricalFocalLoss(gamma=2), metrics=\"accuracy\"\n",
        ")\n",
        "history = classifier_model_focal.fit(\n",
        "    train_ds,\n",
        "    validation_data=validation_ds,\n",
        "    epochs=10\n",
        ")"
      ],
      "execution_count": 22,
      "outputs": [
        {
          "output_type": "stream",
          "text": [
            "Epoch 1/10\n",
            "38/38 [==============================] - 3s 17ms/step - loss: 4.2763 - accuracy: 0.6466 - val_loss: 0.1948 - val_accuracy: 0.6825\n",
            "Epoch 2/10\n",
            "38/38 [==============================] - 1s 16ms/step - loss: 0.5011 - accuracy: 0.4595 - val_loss: 0.5090 - val_accuracy: 0.6667\n",
            "Epoch 3/10\n",
            "38/38 [==============================] - 1s 15ms/step - loss: 0.5643 - accuracy: 0.5455 - val_loss: 0.1164 - val_accuracy: 0.5556\n",
            "Epoch 4/10\n",
            "38/38 [==============================] - 1s 27ms/step - loss: 0.3243 - accuracy: 0.3885 - val_loss: 0.0972 - val_accuracy: 0.5397\n",
            "Epoch 5/10\n",
            "38/38 [==============================] - 1s 23ms/step - loss: 0.3478 - accuracy: 0.4411 - val_loss: 0.0848 - val_accuracy: 0.3968\n",
            "Epoch 6/10\n",
            "38/38 [==============================] - 1s 24ms/step - loss: 0.2991 - accuracy: 0.3743 - val_loss: 0.0652 - val_accuracy: 0.5079\n",
            "Epoch 7/10\n",
            "38/38 [==============================] - 1s 30ms/step - loss: 0.2792 - accuracy: 0.4344 - val_loss: 0.0687 - val_accuracy: 0.5714\n",
            "Epoch 8/10\n",
            "38/38 [==============================] - 1s 22ms/step - loss: 0.2436 - accuracy: 0.3175 - val_loss: 0.0769 - val_accuracy: 0.3651\n",
            "Epoch 9/10\n",
            "38/38 [==============================] - 1s 21ms/step - loss: 0.2695 - accuracy: 0.3751 - val_loss: 0.1533 - val_accuracy: 0.6032\n",
            "Epoch 10/10\n",
            "38/38 [==============================] - 1s 31ms/step - loss: 0.3021 - accuracy: 0.3759 - val_loss: 0.0499 - val_accuracy: 0.4127\n"
          ],
          "name": "stdout"
        }
      ]
    },
    {
      "cell_type": "code",
      "metadata": {
        "id": "tchZ8I8MP-pb",
        "outputId": "7f933ac7-91bd-41e5-d9e3-245a3d5f615f",
        "colab": {
          "base_uri": "https://localhost:8080/"
        }
      },
      "source": [
        "_, acc = classifier_model_focal.evaluate(test_ds)\n",
        "print(f\"Accuracy on the test set: {round(acc * 100, 2)}%.\")"
      ],
      "execution_count": 23,
      "outputs": [
        {
          "output_type": "stream",
          "text": [
            "5/5 [==============================] - 0s 6ms/step - loss: 0.0634 - accuracy: 0.3786\n",
            "Accuracy on the test set: 37.86%.\n"
          ],
          "name": "stdout"
        }
      ]
    },
    {
      "cell_type": "code",
      "metadata": {
        "id": "HwgPS1zERSM2",
        "outputId": "74d58640-671d-460d-dad7-8808f149c849",
        "colab": {
          "base_uri": "https://localhost:8080/",
          "height": 312
        }
      },
      "source": [
        "detailed_test_eval(classifier_model_focal)"
      ],
      "execution_count": 24,
      "outputs": [
        {
          "output_type": "stream",
          "text": [
            "               precision    recall  f1-score   support\n",
            "\n",
            "Contradictory       0.15      0.73      0.25        11\n",
            "      Implies       0.09      0.36      0.15        11\n",
            " NoEntailment       0.91      0.35      0.50       118\n",
            "\n",
            "     accuracy                           0.38       140\n",
            "    macro avg       0.39      0.48      0.30       140\n",
            " weighted avg       0.79      0.38      0.46       140\n",
            "\n"
          ],
          "name": "stdout"
        },
        {
          "output_type": "execute_result",
          "data": {
            "text/html": [
              "<div>\n",
              "<style scoped>\n",
              "    .dataframe tbody tr th:only-of-type {\n",
              "        vertical-align: middle;\n",
              "    }\n",
              "\n",
              "    .dataframe tbody tr th {\n",
              "        vertical-align: top;\n",
              "    }\n",
              "\n",
              "    .dataframe thead th {\n",
              "        text-align: right;\n",
              "    }\n",
              "</style>\n",
              "<table border=\"1\" class=\"dataframe\">\n",
              "  <thead>\n",
              "    <tr style=\"text-align: right;\">\n",
              "      <th></th>\n",
              "      <th>Contradictory</th>\n",
              "      <th>Implies</th>\n",
              "      <th>NoEntailment</th>\n",
              "    </tr>\n",
              "  </thead>\n",
              "  <tbody>\n",
              "    <tr>\n",
              "      <th>Contradictory</th>\n",
              "      <td>8</td>\n",
              "      <td>1</td>\n",
              "      <td>2</td>\n",
              "    </tr>\n",
              "    <tr>\n",
              "      <th>Implies</th>\n",
              "      <td>5</td>\n",
              "      <td>4</td>\n",
              "      <td>2</td>\n",
              "    </tr>\n",
              "    <tr>\n",
              "      <th>NoEntailment</th>\n",
              "      <td>39</td>\n",
              "      <td>38</td>\n",
              "      <td>41</td>\n",
              "    </tr>\n",
              "  </tbody>\n",
              "</table>\n",
              "</div>"
            ],
            "text/plain": [
              "               Contradictory  Implies  NoEntailment\n",
              "Contradictory              8        1             2\n",
              "Implies                    5        4             2\n",
              "NoEntailment              39       38            41"
            ]
          },
          "metadata": {
            "tags": []
          },
          "execution_count": 24
        }
      ]
    }
  ]
}