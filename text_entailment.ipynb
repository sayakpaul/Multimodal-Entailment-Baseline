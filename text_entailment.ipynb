{
  "nbformat": 4,
  "nbformat_minor": 0,
  "metadata": {
    "colab": {
      "name": "text_entailment.ipynb",
      "provenance": [],
      "collapsed_sections": [],
      "machine_shape": "hm",
      "authorship_tag": "ABX9TyM9Xq9jaaa8HWOp6r2CD/fz",
      "include_colab_link": true
    },
    "kernelspec": {
      "name": "python3",
      "display_name": "Python 3"
    },
    "language_info": {
      "name": "python"
    },
    "accelerator": "GPU"
  },
  "cells": [
    {
      "cell_type": "markdown",
      "metadata": {
        "id": "view-in-github",
        "colab_type": "text"
      },
      "source": [
        "<a href=\"https://colab.research.google.com/github/sayakpaul/Multimodal-Entailment-Baseline/blob/main/text_entailment.ipynb\" target=\"_parent\"><img src=\"https://colab.research.google.com/assets/colab-badge.svg\" alt=\"Open In Colab\"/></a>"
      ]
    },
    {
      "cell_type": "markdown",
      "metadata": {
        "id": "-euecjWhwnCI"
      },
      "source": [
        "In this notebook, we will build a model for predicting textual entailment. Given two pieces of text the model should be able to predict if they contradict/entail/do not entail."
      ]
    },
    {
      "cell_type": "markdown",
      "metadata": {
        "id": "i5jZMurdw2Wn"
      },
      "source": [
        "## Setup and imports"
      ]
    },
    {
      "cell_type": "code",
      "metadata": {
        "colab": {
          "base_uri": "https://localhost:8080/"
        },
        "id": "1PDR7VvxqKAi",
        "outputId": "35c4c8f4-d959-4c84-ab5d-9aed30915296"
      },
      "source": [
        "!pip install -q tensorflow_text"
      ],
      "execution_count": 1,
      "outputs": [
        {
          "output_type": "stream",
          "text": [
            "\u001b[K     |████████████████████████████████| 4.3 MB 13.7 MB/s \n",
            "\u001b[?25h"
          ],
          "name": "stdout"
        }
      ]
    },
    {
      "cell_type": "code",
      "metadata": {
        "id": "elIGGb4-qXiO"
      },
      "source": [
        "from sklearn.model_selection import train_test_split\n",
        "import matplotlib.pyplot as plt\n",
        "import pandas as pd\n",
        "import numpy as np\n",
        "import os\n",
        "\n",
        "import tensorflow as tf\n",
        "import tensorflow_hub as hub\n",
        "import tensorflow_text as text\n",
        "from tensorflow import keras"
      ],
      "execution_count": 1,
      "outputs": []
    },
    {
      "cell_type": "markdown",
      "metadata": {
        "id": "fqS4sss7xEyN"
      },
      "source": [
        "## Read dataset"
      ]
    },
    {
      "cell_type": "code",
      "metadata": {
        "colab": {
          "base_uri": "https://localhost:8080/"
        },
        "id": "sRM8TazrqblE",
        "outputId": "e76d5a2e-86cb-4aa5-e717-dc23b4764ac3"
      },
      "source": [
        "train_df = pd.read_csv(\"https://github.com/sayakpaul/Multimodal-Entailment-Baseline/raw/main/csvs/train_df.csv\")\n",
        "test_df = pd.read_csv(\"https://github.com/sayakpaul/Multimodal-Entailment-Baseline/raw/main/csvs/test_df.csv\")\n",
        "print(f\"Training examples: {len(train_df)}\")\n",
        "print(f\"Test examples: {len(test_df)}\")"
      ],
      "execution_count": 2,
      "outputs": [
        {
          "output_type": "stream",
          "text": [
            "Training examples: 1190\n",
            "Test examples: 210\n"
          ],
          "name": "stdout"
        }
      ]
    },
    {
      "cell_type": "code",
      "metadata": {
        "colab": {
          "base_uri": "https://localhost:8080/",
          "height": 600
        },
        "id": "koj4ktfyrWmr",
        "outputId": "902d2846-36d5-4451-f554-8d9dc812d86c"
      },
      "source": [
        "train_df.sample(10)"
      ],
      "execution_count": 3,
      "outputs": [
        {
          "output_type": "execute_result",
          "data": {
            "text/html": [
              "<div>\n",
              "<style scoped>\n",
              "    .dataframe tbody tr th:only-of-type {\n",
              "        vertical-align: middle;\n",
              "    }\n",
              "\n",
              "    .dataframe tbody tr th {\n",
              "        vertical-align: top;\n",
              "    }\n",
              "\n",
              "    .dataframe thead th {\n",
              "        text-align: right;\n",
              "    }\n",
              "</style>\n",
              "<table border=\"1\" class=\"dataframe\">\n",
              "  <thead>\n",
              "    <tr style=\"text-align: right;\">\n",
              "      <th></th>\n",
              "      <th>id_1</th>\n",
              "      <th>text_1</th>\n",
              "      <th>image_1</th>\n",
              "      <th>id_2</th>\n",
              "      <th>text_2</th>\n",
              "      <th>image_2</th>\n",
              "      <th>label</th>\n",
              "      <th>image_1_path</th>\n",
              "      <th>image_2_path</th>\n",
              "      <th>label_idx</th>\n",
              "    </tr>\n",
              "  </thead>\n",
              "  <tbody>\n",
              "    <tr>\n",
              "      <th>971</th>\n",
              "      <td>1380102605859328002</td>\n",
              "      <td>Spitfire landed or gone out of range\\nSerial: ...</td>\n",
              "      <td>http://pbs.twimg.com/media/EyccAREWEAAdFD-.png</td>\n",
              "      <td>1384441854033375234</td>\n",
              "      <td>Spitfire landed or gone out of range\\nSerial: ...</td>\n",
              "      <td>http://pbs.twimg.com/media/EzaGhudWUAA6Rd6.png</td>\n",
              "      <td>NoEntailment</td>\n",
              "      <td>tweet_images/1380102605859328002.png</td>\n",
              "      <td>tweet_images/1384441854033375234.png</td>\n",
              "      <td>2</td>\n",
              "    </tr>\n",
              "    <tr>\n",
              "      <th>191</th>\n",
              "      <td>1332084235629432833</td>\n",
              "      <td>It's that time when I am forced to get off twi...</td>\n",
              "      <td>http://pbs.twimg.com/media/EnyDIsIXUAA7kFc.jpg</td>\n",
              "      <td>1361803791637610496</td>\n",
              "      <td>Ok, as I have had a busy day and had to keep m...</td>\n",
              "      <td>http://pbs.twimg.com/media/EuYZSyDXMAM8Nig.jpg</td>\n",
              "      <td>NoEntailment</td>\n",
              "      <td>tweet_images/1332084235629432833.jpg</td>\n",
              "      <td>tweet_images/1361803791637610496.jpg</td>\n",
              "      <td>2</td>\n",
              "    </tr>\n",
              "    <tr>\n",
              "      <th>637</th>\n",
              "      <td>1372372202247630850</td>\n",
              "      <td>Social Media Manager \\nginnaya@thecreativestor...</td>\n",
              "      <td>http://pbs.twimg.com/media/EwulPq0WYAEtA5y.jpg</td>\n",
              "      <td>1380346155570233344</td>\n",
              "      <td>Senior Project Manager \\nginnaya@thecreativest...</td>\n",
              "      <td>http://pbs.twimg.com/media/Eyf5g2uXAAMGbDB.jpg</td>\n",
              "      <td>Contradictory</td>\n",
              "      <td>tweet_images/1372372202247630850.jpg</td>\n",
              "      <td>tweet_images/1380346155570233344.jpg</td>\n",
              "      <td>0</td>\n",
              "    </tr>\n",
              "    <tr>\n",
              "      <th>456</th>\n",
              "      <td>1354818288774070273</td>\n",
              "      <td>Today: pop-up #COVID19 testing in Kent. Find o...</td>\n",
              "      <td>http://pbs.twimg.com/media/Es0dV8VWMAQzDG5.jpg</td>\n",
              "      <td>1360575702106574851</td>\n",
              "      <td>Starting at 9 a.m.: pop-up #COVID19 testing in...</td>\n",
              "      <td>http://pbs.twimg.com/media/EuBtW10XEAAPput.jpg</td>\n",
              "      <td>NoEntailment</td>\n",
              "      <td>tweet_images/1354818288774070273.jpg</td>\n",
              "      <td>tweet_images/1360575702106574851.jpg</td>\n",
              "      <td>2</td>\n",
              "    </tr>\n",
              "    <tr>\n",
              "      <th>434</th>\n",
              "      <td>1338561715311702020</td>\n",
              "      <td>Tomorrow's forecast low of -13°C could be the ...</td>\n",
              "      <td>http://pbs.twimg.com/media/EpNbLIaXMAEr3J7.jpg</td>\n",
              "      <td>1339214091953561600</td>\n",
              "      <td>Today's ~8am temperature of -18.4°C was #Ottaw...</td>\n",
              "      <td>http://pbs.twimg.com/media/EpXYHo0XUAAEWtm.png</td>\n",
              "      <td>NoEntailment</td>\n",
              "      <td>tweet_images/1338561715311702020.jpg</td>\n",
              "      <td>tweet_images/1339214091953561600.png</td>\n",
              "      <td>2</td>\n",
              "    </tr>\n",
              "    <tr>\n",
              "      <th>43</th>\n",
              "      <td>1356719777159471106</td>\n",
              "      <td>The bottom three on form are Birmingham, Rothe...</td>\n",
              "      <td>http://pbs.twimg.com/media/EtQJThBXEAMSKom.jpg</td>\n",
              "      <td>1383323542373031937</td>\n",
              "      <td>The 12-game form table. Preston North End are ...</td>\n",
              "      <td>http://pbs.twimg.com/media/EzKNa5NVIAATfMZ.jpg</td>\n",
              "      <td>NoEntailment</td>\n",
              "      <td>tweet_images/1356719777159471106.jpg</td>\n",
              "      <td>tweet_images/1383323542373031937.jpg</td>\n",
              "      <td>2</td>\n",
              "    </tr>\n",
              "    <tr>\n",
              "      <th>221</th>\n",
              "      <td>1351923005333491712</td>\n",
              "      <td>#First4Songs for 1-20-21: #WhatImLeavingFor by...</td>\n",
              "      <td>http://pbs.twimg.com/media/EsL-zs5UwAE3MVl.jpg</td>\n",
              "      <td>1354099275324678145</td>\n",
              "      <td>#First4Songs on 1-26-21: #KurtCobain by #Veron...</td>\n",
              "      <td>http://pbs.twimg.com/media/Esq6HVBUUAAWHuk.jpg</td>\n",
              "      <td>NoEntailment</td>\n",
              "      <td>tweet_images/1351923005333491712.jpg</td>\n",
              "      <td>tweet_images/1354099275324678145.jpg</td>\n",
              "      <td>2</td>\n",
              "    </tr>\n",
              "    <tr>\n",
              "      <th>446</th>\n",
              "      <td>1373395701812592642</td>\n",
              "      <td>Now updated, your Blue Ridge Energy 7 day fore...</td>\n",
              "      <td>http://pbs.twimg.com/media/Ew85kKmXIAMV5uK.jpg</td>\n",
              "      <td>1378818442510397448</td>\n",
              "      <td>Now updated your Blue Ridge Energy 7 day forec...</td>\n",
              "      <td>http://pbs.twimg.com/media/EyKMEOhWgAQfKvM.jpg</td>\n",
              "      <td>NoEntailment</td>\n",
              "      <td>tweet_images/1373395701812592642.jpg</td>\n",
              "      <td>tweet_images/1378818442510397448.jpg</td>\n",
              "      <td>2</td>\n",
              "    </tr>\n",
              "    <tr>\n",
              "      <th>430</th>\n",
              "      <td>1357697999271510019</td>\n",
              "      <td>Active #Accident / #Issues and #RoadClosures o...</td>\n",
              "      <td>http://pbs.twimg.com/media/EteA3GvXUAAWLvx.jpg</td>\n",
              "      <td>1362057567141265411</td>\n",
              "      <td>Active #Issues on #Ontario #ONHwys.\\nThere's c...</td>\n",
              "      <td>http://pbs.twimg.com/media/EucAIa5XMAg5J5V.jpg</td>\n",
              "      <td>NoEntailment</td>\n",
              "      <td>tweet_images/1357697999271510019.jpg</td>\n",
              "      <td>tweet_images/1362057567141265411.jpg</td>\n",
              "      <td>2</td>\n",
              "    </tr>\n",
              "    <tr>\n",
              "      <th>751</th>\n",
              "      <td>1367761688435580928</td>\n",
              "      <td>RT CaviteXpressway: CAVITEX Update as of 07:00...</td>\n",
              "      <td>http://pbs.twimg.com/media/EvlyRv4VgAkX235.jpg</td>\n",
              "      <td>1382634775039594497</td>\n",
              "      <td>RT CaviteXpressway: CAVITEX Update as of 05:00...</td>\n",
              "      <td>http://pbs.twimg.com/media/EzAQt47WgAE3xih.jpg</td>\n",
              "      <td>NoEntailment</td>\n",
              "      <td>tweet_images/1367761688435580928.jpg</td>\n",
              "      <td>tweet_images/1382634775039594497.jpg</td>\n",
              "      <td>2</td>\n",
              "    </tr>\n",
              "  </tbody>\n",
              "</table>\n",
              "</div>"
            ],
            "text/plain": [
              "                    id_1  ... label_idx\n",
              "971  1380102605859328002  ...         2\n",
              "191  1332084235629432833  ...         2\n",
              "637  1372372202247630850  ...         0\n",
              "456  1354818288774070273  ...         2\n",
              "434  1338561715311702020  ...         2\n",
              "43   1356719777159471106  ...         2\n",
              "221  1351923005333491712  ...         2\n",
              "446  1373395701812592642  ...         2\n",
              "430  1357697999271510019  ...         2\n",
              "751  1367761688435580928  ...         2\n",
              "\n",
              "[10 rows x 10 columns]"
            ]
          },
          "metadata": {
            "tags": []
          },
          "execution_count": 3
        }
      ]
    },
    {
      "cell_type": "markdown",
      "metadata": {
        "id": "0KjuIQgGxHE2"
      },
      "source": [
        "## Data input pipeline"
      ]
    },
    {
      "cell_type": "code",
      "metadata": {
        "id": "1ly8POGnravr"
      },
      "source": [
        "# Define TF Hub paths to the BERT encoder and its preprocessor\n",
        "bert_model_path = \"https://tfhub.dev/tensorflow/small_bert/bert_en_uncased_L-2_H-256_A-4/1\"\n",
        "bert_preprocess_path = \"https://tfhub.dev/tensorflow/bert_en_uncased_preprocess/3\""
      ],
      "execution_count": 4,
      "outputs": []
    },
    {
      "cell_type": "code",
      "metadata": {
        "id": "EGeDVsT9sOTL"
      },
      "source": [
        "# Reference:\n",
        "# https://www.tensorflow.org/text/tutorials/bert_glue\n",
        "\n",
        "def make_bert_preprocess_model(sentence_features, seq_length=128):\n",
        "  \"\"\"Returns Model mapping string features to BERT inputs.\n",
        "\n",
        "  Args:\n",
        "    sentence_features: a list with the names of string-valued features.\n",
        "    seq_length: an integer that defines the sequence length of BERT inputs.\n",
        "\n",
        "  Returns:\n",
        "    A Keras Model that can be called on a list or dict of string Tensors\n",
        "    (with the order or names, resp., given by sentence_features) and\n",
        "    returns a dict of tensors for input to BERT.\n",
        "  \"\"\"\n",
        "\n",
        "  input_segments = [\n",
        "      tf.keras.layers.Input(shape=(), dtype=tf.string, name=ft)\n",
        "      for ft in sentence_features]\n",
        "\n",
        "  # Tokenize the text to word pieces.\n",
        "  bert_preprocess = hub.load(bert_preprocess_path)\n",
        "  tokenizer = hub.KerasLayer(bert_preprocess.tokenize, name='tokenizer')\n",
        "  segments = [tokenizer(s) for s in input_segments]\n",
        "\n",
        "  # Optional: Trim segments in a smart way to fit seq_length.\n",
        "  # Simple cases (like this example) can skip this step and let\n",
        "  # the next step apply a default truncation to approximately equal lengths.\n",
        "  truncated_segments = segments\n",
        "\n",
        "  # Pack inputs. The details (start/end token ids, dict of output tensors)\n",
        "  # are model-dependent, so this gets loaded from the SavedModel.\n",
        "  packer = hub.KerasLayer(bert_preprocess.bert_pack_inputs,\n",
        "                          arguments=dict(seq_length=seq_length),\n",
        "                          name='packer')\n",
        "  model_inputs = packer(truncated_segments)\n",
        "  return keras.Model(input_segments, model_inputs)"
      ],
      "execution_count": 5,
      "outputs": []
    },
    {
      "cell_type": "code",
      "metadata": {
        "colab": {
          "base_uri": "https://localhost:8080/",
          "height": 312
        },
        "id": "s95Hc9CvsWHT",
        "outputId": "df605862-7684-4836-d0fc-c4d181ef5614"
      },
      "source": [
        "bert_preprocess_model = make_bert_preprocess_model(['text_1', 'text_2'])\n",
        "keras.utils.plot_model(bert_preprocess_model, show_shapes=True, show_dtype=True)"
      ],
      "execution_count": 6,
      "outputs": [
        {
          "output_type": "execute_result",
          "data": {
            "image/png": "[encoded data removed]",
            "text/plain": [
              "<IPython.core.display.Image object>"
            ]
          },
          "metadata": {
            "tags": []
          },
          "execution_count": 6
        }
      ]
    },
    {
      "cell_type": "code",
      "metadata": {
        "id": "MLgiqNS3sbyH"
      },
      "source": [
        "def dataframe_to_dataset(dataframe):\n",
        "    columns = [\"text_1\", \"text_2\", \"label_idx\"]\n",
        "    dataframe = dataframe[columns].copy()\n",
        "    ds = tf.data.Dataset.from_tensor_slices(dict(dataframe))\n",
        "    return ds"
      ],
      "execution_count": 7,
      "outputs": []
    },
    {
      "cell_type": "code",
      "metadata": {
        "colab": {
          "base_uri": "https://localhost:8080/"
        },
        "id": "_rYMnVDMtS-a",
        "outputId": "edf572e3-30c5-446c-a3c7-e91e1990427b"
      },
      "source": [
        "batch_size = 32\n",
        "auto = tf.data.AUTOTUNE\n",
        "\n",
        "def prepare_dataset(df, training=True):\n",
        "    ds = dataframe_to_dataset(df)\n",
        "    if training:\n",
        "        ds = ds.shuffle(len(train_df))\n",
        "    \n",
        "    ds = ds.batch(batch_size)\n",
        "    ds = ds.map(lambda x: (bert_preprocess_model(x), x[\"label_idx\"]))\n",
        "    ds = ds.cache().prefetch(auto)\n",
        "    return ds\n",
        "\n",
        "train_ds = prepare_dataset(train_df)\n",
        "test_ds = prepare_dataset(test_df, False)"
      ],
      "execution_count": 8,
      "outputs": [
        {
          "output_type": "stream",
          "text": [
            "/usr/local/lib/python3.7/dist-packages/tensorflow/python/keras/engine/functional.py:591: UserWarning: Input dict contained keys ['label_idx'] which did not match any model input. They will be ignored by the model.\n",
            "  [n for n in tensors.keys() if n not in ref_input_names])\n"
          ],
          "name": "stderr"
        }
      ]
    },
    {
      "cell_type": "code",
      "metadata": {
        "colab": {
          "base_uri": "https://localhost:8080/"
        },
        "id": "xR8Dc4v3sjlh",
        "outputId": "6ded1dd3-53d8-4fe6-856e-b13186edafaf"
      },
      "source": [
        "# Reference:\n",
        "# https://www.tensorflow.org/neural_structured_learning/tutorials/graph_keras_lstm_imdb\n",
        "validation_fraction = 0.9\n",
        "validation_size = int(validation_fraction *\n",
        "                      int(len(train_df) / batch_size))\n",
        "print(f\"Validation samples: {validation_size}\")\n",
        "validation_ds = train_ds.take(validation_size)\n",
        "train_ds = train_ds.skip(validation_size)"
      ],
      "execution_count": 9,
      "outputs": [
        {
          "output_type": "stream",
          "text": [
            "Validation samples: 33\n"
          ],
          "name": "stdout"
        }
      ]
    },
    {
      "cell_type": "markdown",
      "metadata": {
        "id": "vtSpTgO7xJ_J"
      },
      "source": [
        "## Model utilities"
      ]
    },
    {
      "cell_type": "code",
      "metadata": {
        "id": "afBGqAFgtP5b"
      },
      "source": [
        "# Reference:\n",
        "# https://www.tensorflow.org/text/tutorials/bert_glue\n",
        "def build_classifier_model(num_classes=3):\n",
        "\n",
        "  class Classifier(tf.keras.Model):\n",
        "    def __init__(self, num_classes):\n",
        "      super(Classifier, self).__init__(name=\"prediction\")\n",
        "      self.encoder = hub.KerasLayer(bert_model_path, trainable=False)\n",
        "      self.dropout = keras.layers.Dropout(0.1)\n",
        "      self.dense = keras.layers.Dense(num_classes)\n",
        "\n",
        "    def call(self, preprocessed_text):\n",
        "      encoder_outputs = self.encoder(preprocessed_text)\n",
        "      pooled_output = encoder_outputs[\"pooled_output\"]\n",
        "      x = self.dropout(pooled_output)\n",
        "      x = self.dense(x)\n",
        "      return x\n",
        "\n",
        "  model = Classifier(num_classes)\n",
        "  return model"
      ],
      "execution_count": 13,
      "outputs": []
    },
    {
      "cell_type": "markdown",
      "metadata": {
        "id": "mkhs70qnxLl7"
      },
      "source": [
        "## Compile and train the model"
      ]
    },
    {
      "cell_type": "code",
      "metadata": {
        "colab": {
          "base_uri": "https://localhost:8080/"
        },
        "id": "EEwvn-9XwAgZ",
        "outputId": "00b4cf57-7c86-4c79-acb1-772d012d8d08"
      },
      "source": [
        "classifier_model = build_classifier_model()\n",
        "classifier_model.compile(optimizer=\"adam\", loss=\"sparse_categorical_crossentropy\", metrics=\"accuracy\")\n",
        "history = classifier_model.fit(\n",
        "    train_ds,\n",
        "    validation_data=validation_ds,\n",
        "    epochs=10\n",
        ")"
      ],
      "execution_count": 14,
      "outputs": [
        {
          "output_type": "stream",
          "text": [
            "Epoch 1/10\n",
            "5/5 [==============================] - 4s 151ms/step - loss: 2.2286 - accuracy: 0.7313 - val_loss: 2.4372 - val_accuracy: 0.8381\n",
            "Epoch 2/10\n",
            "5/5 [==============================] - 0s 115ms/step - loss: 2.1470 - accuracy: 0.8433 - val_loss: 1.9341 - val_accuracy: 0.8419\n",
            "Epoch 3/10\n",
            "5/5 [==============================] - 1s 224ms/step - loss: 1.8343 - accuracy: 0.8433 - val_loss: 1.5793 - val_accuracy: 0.8409\n",
            "Epoch 4/10\n",
            "5/5 [==============================] - 1s 199ms/step - loss: 0.9514 - accuracy: 0.8433 - val_loss: 1.2434 - val_accuracy: 0.8381\n",
            "Epoch 5/10\n",
            "5/5 [==============================] - 1s 125ms/step - loss: 0.9305 - accuracy: 0.8358 - val_loss: 1.1571 - val_accuracy: 0.8352\n",
            "Epoch 6/10\n",
            "5/5 [==============================] - 0s 122ms/step - loss: 1.0166 - accuracy: 0.8284 - val_loss: 1.1063 - val_accuracy: 0.8324\n",
            "Epoch 7/10\n",
            "5/5 [==============================] - 1s 231ms/step - loss: 1.0740 - accuracy: 0.7985 - val_loss: 1.1172 - val_accuracy: 0.8305\n",
            "Epoch 8/10\n",
            "5/5 [==============================] - 1s 178ms/step - loss: 1.0576 - accuracy: 0.8060 - val_loss: 1.1080 - val_accuracy: 0.8277\n",
            "Epoch 9/10\n",
            "5/5 [==============================] - 1s 129ms/step - loss: 1.0658 - accuracy: 0.7910 - val_loss: 1.1088 - val_accuracy: 0.8258\n",
            "Epoch 10/10\n",
            "5/5 [==============================] - 1s 248ms/step - loss: 1.1797 - accuracy: 0.7985 - val_loss: 1.0986 - val_accuracy: 0.8305\n"
          ],
          "name": "stdout"
        }
      ]
    },
    {
      "cell_type": "markdown",
      "metadata": {
        "id": "aWk7g5A4xN18"
      },
      "source": [
        "## Model evaluation"
      ]
    },
    {
      "cell_type": "code",
      "metadata": {
        "colab": {
          "base_uri": "https://localhost:8080/"
        },
        "id": "9g5CDTphwY-J",
        "outputId": "b0ce0622-cdb4-4f9c-8078-7559259cbe1a"
      },
      "source": [
        "_, acc = classifier_model.evaluate(test_ds)\n",
        "print(f\"Accuracy on the test set: {round(acc * 100, 2)}%.\")"
      ],
      "execution_count": 15,
      "outputs": [
        {
          "output_type": "stream",
          "text": [
            "7/7 [==============================] - 1s 14ms/step - loss: 1.0934 - accuracy: 0.8286\n",
            "Accuracy on the test set: 82.86%.\n"
          ],
          "name": "stdout"
        }
      ]
    }
  ]
}